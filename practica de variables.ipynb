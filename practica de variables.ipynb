{
 "cells": [
  {
   "cell_type": "code",
   "execution_count": 1,
   "id": "86d633b3-0eaf-4eb4-89a1-346545a8c80b",
   "metadata": {},
   "outputs": [
    {
     "name": "stdin",
     "output_type": "stream",
     "text": [
      "introduce la medida del lado del cuadrado 3\n"
     ]
    },
    {
     "name": "stdout",
     "output_type": "stream",
     "text": [
      "el area del cuadrado es 9\n"
     ]
    }
   ],
   "source": [
    "lado = int(input(\"introduce la medida del lado del cuadrado\"))\n",
    "print(\"el area del cuadrado es\",lado**2)\n"
   ]
  },
  {
   "cell_type": "code",
   "execution_count": 5,
   "id": "69d6230d-0910-40cd-90bc-8bc91743dc65",
   "metadata": {},
   "outputs": [
    {
     "name": "stdin",
     "output_type": "stream",
     "text": [
      "introduce la base el rectangulo 9\n",
      "introduce la altura del rectaangulo 10\n"
     ]
    },
    {
     "name": "stdout",
     "output_type": "stream",
     "text": [
      "el area del rectangulo es 90\n"
     ]
    }
   ],
   "source": [
    "base = int(input(\"introduce la base el rectangulo\"))\n",
    "altura = int(input(\"introduce la altura del rectangulo\"))\n",
    "print(\"el area del rectangulo es\",base *altura)\n"
   ]
  },
  {
   "cell_type": "code",
   "execution_count": 7,
   "id": "a82a25c8-b520-46f0-81c6-c163c2adc82a",
   "metadata": {},
   "outputs": [
    {
     "name": "stdin",
     "output_type": "stream",
     "text": [
      "introduce la base el triangulo 9\n",
      "introduce la altura del triangulo 7\n"
     ]
    },
    {
     "name": "stdout",
     "output_type": "stream",
     "text": [
      "el area del triangulo es 63\n"
     ]
    }
   ],
   "source": [
    "base = int(input(\"introduce la base el triangulo\"))\n",
    "altura = int(input(\"introduce la altura del triangulo\"))\n",
    "print(\"el area del triangulo es\",base *altura)\n"
   ]
  },
  {
   "cell_type": "code",
   "execution_count": 11,
   "id": "45f21c0e-208a-4b8e-a95a-88a2e03b0431",
   "metadata": {},
   "outputs": [
    {
     "name": "stdin",
     "output_type": "stream",
     "text": [
      "introduce el radio de los circulos 68\n"
     ]
    },
    {
     "name": "stdout",
     "output_type": "stream",
     "text": [
      "el area del circulo es 60766.7584\n"
     ]
    }
   ],
   "source": [
    "pi = 13.1416\n",
    "radio = int(input(\"introduce el radio de los circulos\"))\n",
    "print(\"el area del circulo es\",(pi*radio**2))\n"
   ]
  },
  {
   "cell_type": "code",
   "execution_count": 19,
   "id": "7f8ac0f7-7f28-4077-8b3f-5e734b11cbe8",
   "metadata": {},
   "outputs": [
    {
     "name": "stdin",
     "output_type": "stream",
     "text": [
      "escribe la medida del romboide 80\n",
      "introduce la altura del romboide 9\n"
     ]
    },
    {
     "name": "stdout",
     "output_type": "stream",
     "text": [
      "el area del romboide es 720\n"
     ]
    }
   ],
   "source": [
    "base = int(input(\"escribe la medida del romboide\"))\n",
    "altura = int(input(\"introduce la altura del romboide\"))\n",
    "print(\"el area del romboide es\",base*altura)"
   ]
  },
  {
   "cell_type": "code",
   "execution_count": 21,
   "id": "c7fc31bb-2818-4806-8762-c41a964155b1",
   "metadata": {},
   "outputs": [
    {
     "name": "stdin",
     "output_type": "stream",
     "text": [
      "escribe la medida de un lado del pentagono 80\n",
      "escribe la medida del apotema 10\n"
     ]
    },
    {
     "name": "stdout",
     "output_type": "stream",
     "text": [
      "el area del pentagono es 4000\n"
     ]
    }
   ],
   "source": [
    "lado = int(input(\"escribe la medida de un lado del pentagono\"))\n",
    "apotema = int(input(\"escribe la medida del apotema\"))\n",
    "print(\"el area del pentagono es\",(lado*5)*apotema)"
   ]
  },
  {
   "cell_type": "code",
   "execution_count": null,
   "id": "13c36614-459c-4a31-b7bd-59fde6a81abc",
   "metadata": {},
   "outputs": [],
   "source": [
    "diametroA = int(input(\"introduce la medida del diametroA\"))\n",
    "diametroB = int(input(\"introduce la medida del diametroB\"))\n",
    "print(\"el area del rombo es\",.5*diametro"
   ]
  }
 ],
 "metadata": {
  "kernelspec": {
   "display_name": "Python [conda env:base] *",
   "language": "python",
   "name": "conda-base-py"
  },
  "language_info": {
   "codemirror_mode": {
    "name": "ipython",
    "version": 3
   },
   "file_extension": ".py",
   "mimetype": "text/x-python",
   "name": "python",
   "nbconvert_exporter": "python",
   "pygments_lexer": "ipython3",
   "version": "3.12.7"
  }
 },
 "nbformat": 4,
 "nbformat_minor": 5
}
